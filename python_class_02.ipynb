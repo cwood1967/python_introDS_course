{
 "cells": [
  {
   "cell_type": "markdown",
   "metadata": {},
   "source": [
    "# Intro to Python Part 2\n",
    "\n",
    "This tutorial will cover the following topics:\n",
    "\n",
    "* text strings\n",
    "* control statements\n",
    "* functions\n",
    "* imports"
   ]
  },
  {
   "cell_type": "markdown",
   "metadata": {},
   "source": [
    "## Text Strings\n",
    "\n",
    "Text strings are a special kind of list in python.  They obey many of the same rules but have some additional special functions. To create a text string, make a variable where the assigned value is some combination of characters within a quote (single or double quotes both work fine **with some caveats**). "
   ]
  },
  {
   "cell_type": "code",
   "execution_count": null,
   "metadata": {},
   "outputs": [],
   "source": [
    "my_string='Python is fun, fun, fun!'\n",
    "print(my_string)"
   ]
  },
  {
   "cell_type": "code",
   "execution_count": null,
   "metadata": {},
   "outputs": [],
   "source": [
    "my_string2 = \"Python is fun, fun, fun!\"\n",
    "print(my_string2)"
   ]
  },
  {
   "cell_type": "code",
   "execution_count": null,
   "metadata": {},
   "outputs": [],
   "source": [
    "my_string == my_string2"
   ]
  },
  {
   "cell_type": "markdown",
   "metadata": {},
   "source": [
    "What if we want to include quotes in our string text? Need to use the other quote type or escape the quotes"
   ]
  },
  {
   "cell_type": "code",
   "execution_count": null,
   "metadata": {},
   "outputs": [],
   "source": [
    "my_string3 = 'Andrew said \"Python is fun, fun, fun!\"'\n",
    "print(my_string3)\n",
    "my_string4 = \"Andrew said \\\"Python is fun, fun, fun!\\\"\"\n",
    "print(my_string4)\n",
    "my_string3 == my_string4"
   ]
  },
  {
   "cell_type": "code",
   "execution_count": null,
   "metadata": {},
   "outputs": [],
   "source": [
    "#try all of the list tricks (they all work)\n",
    "print(len(my_string))\n",
    "print(type(my_string))\n",
    "print(my_string[5:15])\n",
    "print(my_string[-5:])\n",
    "print(my_string+' (of course)')"
   ]
  },
  {
   "cell_type": "markdown",
   "metadata": {},
   "source": [
    "There are a couple reserved string characters that when used with an escape character ('\\') will do something special. \\t enters a tab where \\n creates a new line"
   ]
  },
  {
   "cell_type": "code",
   "execution_count": null,
   "metadata": {},
   "outputs": [],
   "source": [
    "print('Hello \\t world')\n",
    "print('Hello \\nworld')"
   ]
  },
  {
   "cell_type": "markdown",
   "metadata": {},
   "source": [
    "One of the more powerful string functions is split.  It divides a string every place a substring is observed.  String functions are added after the variable name separated by a period.  The result is a list of strings:"
   ]
  },
  {
   "cell_type": "code",
   "execution_count": null,
   "metadata": {},
   "outputs": [],
   "source": [
    "#We could split on spaces:\n",
    "print(my_string.split(' '))\n",
    "#or on commas\n",
    "print(my_string.split(','))"
   ]
  },
  {
   "cell_type": "markdown",
   "metadata": {},
   "source": [
    "Find searches for a substring in a string.  The first matching instance is reported:"
   ]
  },
  {
   "cell_type": "code",
   "execution_count": null,
   "metadata": {},
   "outputs": [],
   "source": [
    "print(my_string.find('fun'))"
   ]
  },
  {
   "cell_type": "markdown",
   "metadata": {},
   "source": [
    "You can force find to look further on in the string by giving it at starting point:"
   ]
  },
  {
   "cell_type": "code",
   "execution_count": null,
   "metadata": {},
   "outputs": [],
   "source": [
    "print(my_string.find('fun',12))"
   ]
  },
  {
   "cell_type": "markdown",
   "metadata": {},
   "source": [
    "Startswith and endswith are great functions to check for prefixes and extensions on file names:"
   ]
  },
  {
   "cell_type": "code",
   "execution_count": null,
   "metadata": {},
   "outputs": [],
   "source": [
    "print(my_string.startswith('Python'))\n",
    "print(my_string.startswith('python')) #see if it's case sensitive"
   ]
  },
  {
   "cell_type": "markdown",
   "metadata": {},
   "source": [
    "There are lots of other special string functions.  Upper and lower convert case.  Strip gets rid of leading and trailing whitespace.  Isnumeric tells whether the string represents numeric characters."
   ]
  },
  {
   "cell_type": "markdown",
   "metadata": {},
   "source": [
    "Note that data types can be applied as functions to convert values to and from different data types.  This is important for finding numeric values in strings (again useful for file names)."
   ]
  },
  {
   "cell_type": "code",
   "execution_count": null,
   "metadata": {},
   "outputs": [],
   "source": [
    "print(str(11))\n",
    "print(type(str(11)))\n",
    "print(int('11'))\n",
    "print(type(int('11')))"
   ]
  },
  {
   "cell_type": "markdown",
   "metadata": {},
   "source": [
    "One somewhat annoying thing can be shown below. You can print strs and ints individually, but cannot print a statement with the two different data types."
   ]
  },
  {
   "cell_type": "code",
   "execution_count": null,
   "metadata": {},
   "outputs": [],
   "source": [
    "print('The year is: ')\n",
    "print(2023)\n",
    "print('The year is' + 2023)"
   ]
  },
  {
   "cell_type": "markdown",
   "metadata": {},
   "source": [
    "To get around this, we can use the str() function from above to convert 2023 from an int into a string."
   ]
  },
  {
   "cell_type": "code",
   "execution_count": null,
   "metadata": {},
   "outputs": [],
   "source": [
    "print('The year is: ' + str(2023))"
   ]
  },
  {
   "cell_type": "markdown",
   "metadata": {},
   "source": [
    "## Exercise 0\n",
    "\n",
    "How many sentences are in the below string? Hint is there anything we can split the string on to separate the sentences?"
   ]
  },
  {
   "cell_type": "code",
   "execution_count": null,
   "metadata": {},
   "outputs": [],
   "source": [
    "test_string = 'Hello. My name is Inigo Montoya. You killed my father. Prepare to die'"
   ]
  },
  {
   "cell_type": "markdown",
   "metadata": {},
   "source": [
    "## Control Statements\n",
    "\n",
    "Every programming language has control statements.  In python, the most common are \"for x in y\", \"if then\", and \"while\".  The for statement is typically used to iterate through some sort of data structure, most commonly lists. It will go through the elements of the list one at a time:"
   ]
  },
  {
   "cell_type": "code",
   "execution_count": null,
   "metadata": {},
   "outputs": [],
   "source": [
    "my_list=[1,2,3,4,5]\n",
    "for i in range(len(my_list)):\n",
    "    my_list[i]+=2\n",
    "print(my_list)"
   ]
  },
  {
   "cell_type": "markdown",
   "metadata": {},
   "source": [
    "Note that range is a special python function that goes from zero to it's value minus 1.  That makes it perfect for iterating through lists.  You can optionally give it the starting point as well:"
   ]
  },
  {
   "cell_type": "code",
   "execution_count": null,
   "metadata": {},
   "outputs": [],
   "source": [
    "my_list=[1,2,3,4,5]\n",
    "for i in range(2,len(my_list)):\n",
    "    my_list[i]+=2\n",
    "print(my_list)"
   ]
  },
  {
   "cell_type": "code",
   "execution_count": null,
   "metadata": {
    "scrolled": true
   },
   "outputs": [],
   "source": [
    "#list(range) let's you see what the range function is providing\n",
    "list(range(2,len(my_list)))"
   ]
  },
  {
   "cell_type": "markdown",
   "metadata": {},
   "source": [
    "You can also iterate through a list without indexes, but the value provided doesn't change the original list (it's a copy):"
   ]
  },
  {
   "cell_type": "code",
   "execution_count": null,
   "metadata": {},
   "outputs": [],
   "source": [
    "for val in my_list:\n",
    "    val+=2\n",
    "    print(val)\n",
    "print(my_list)"
   ]
  },
  {
   "cell_type": "markdown",
   "metadata": {},
   "source": [
    "Another helpful application of for-loops is to iterate through a dictionary. This can be accomplished a couple of different ways. The first is to iterate through the items(key-value pairs) that make up the dictionary: "
   ]
  },
  {
   "cell_type": "code",
   "execution_count": null,
   "metadata": {},
   "outputs": [],
   "source": [
    "teacher_dict = {'Andrew':'CompBio', 'Jay':'BigDataAI','Jonathon':'BigDataAI',\"Chris\":'Micro',\"Sean\":'Micro'}\n",
    "for xi in teacher_dict.items():\n",
    "    print('Person: ' + xi[0])\n",
    "    print('Department: ' + xi[1])\n",
    "    print('----')"
   ]
  },
  {
   "cell_type": "markdown",
   "metadata": {},
   "source": [
    "Another similar method is to iterate through the keys that make up the dictionary. Remember from last week that running dict[key] will return the value for that key found in the dictionary. This works because keys are unique!"
   ]
  },
  {
   "cell_type": "code",
   "execution_count": null,
   "metadata": {},
   "outputs": [],
   "source": [
    "for xi in teacher_dict.keys():\n",
    "    print('Person: ' + xi)\n",
    "    print('Department: ' + teacher_dict[xi])\n",
    "    print('----')"
   ]
  },
  {
   "cell_type": "markdown",
   "metadata": {},
   "source": [
    "If elif else statements in python are relatively straightforward. Python checks the condition provided witin the if/elif/else statements and if the statement is true, then it runs the code below. You can have as many elif statements as your heart desires. But, it is important to know that python checks the if/elif/else statements sequentially and that it stops after it finds a true condition. So if for some reason multiple conditions are true, only the first block of code will run. This is seen in the second chunk of code, 5 is larger than both 2 and 3, but it checks the if statement first and since it's true, it stops there."
   ]
  },
  {
   "cell_type": "code",
   "execution_count": null,
   "metadata": {},
   "outputs": [],
   "source": [
    "my_list = [3.5,3,4]\n",
    "if(my_list[0]>2 and my_list[0]<3):\n",
    "    print('greater than 2, less than 3')\n",
    "elif(my_list[0]>3):\n",
    "    print('greater than 3')\n",
    "else:\n",
    "    print('less than 3')"
   ]
  },
  {
   "cell_type": "code",
   "execution_count": null,
   "metadata": {},
   "outputs": [],
   "source": [
    "my_list = [5,2.5]\n",
    "if(my_list[0]>2):\n",
    "    print('greater than 2')\n",
    "elif(my_list[0]>3):\n",
    "    print('greater than 3')\n",
    "else:\n",
    "    print('less than 3')"
   ]
  },
  {
   "cell_type": "markdown",
   "metadata": {},
   "source": [
    "While is straightforward as well:"
   ]
  },
  {
   "cell_type": "code",
   "execution_count": null,
   "metadata": {},
   "outputs": [],
   "source": [
    "i=0\n",
    "while i < len(my_list):\n",
    "    print(my_list[i])\n",
    "    i+=1"
   ]
  },
  {
   "cell_type": "markdown",
   "metadata": {},
   "source": [
    "## Exercise 1\n",
    "\n",
    "Write code that iterates through the below list and prints whether the number is positive or negative:"
   ]
  },
  {
   "cell_type": "code",
   "execution_count": null,
   "metadata": {},
   "outputs": [],
   "source": [
    "sign_list = [-6,4,3,-3,-1]\n"
   ]
  },
  {
   "cell_type": "markdown",
   "metadata": {},
   "source": [
    "## Functions\n",
    "\n",
    "Functions form the basis for every modern programming language.  Writing good functions is the key to going from a novice programmer to one that can put together complex workflows.  If a software package is a house, functions are the bricks and well written functions can be layered together to build at a much larger scale.\n",
    "\n",
    "I think it's helpful to view coding functions just like a function in math. They share the same fundamental ideas:  \n",
    "1: take in input(s)    \n",
    "2: do something with the input(s)    \n",
    "3: return an output  \n",
    "\n",
    "y = x + 2"
   ]
  },
  {
   "cell_type": "code",
   "execution_count": null,
   "metadata": {
    "collapsed": true
   },
   "outputs": [],
   "source": [
    "def plus2(input_value):\n",
    "    print('My input is:' + str(input_value))\n",
    "    add2 = input_value + 2\n",
    "    return(add2)"
   ]
  },
  {
   "cell_type": "code",
   "execution_count": null,
   "metadata": {},
   "outputs": [],
   "source": [
    "plus2(5)"
   ]
  },
  {
   "cell_type": "markdown",
   "metadata": {},
   "source": [
    "An important note is that these inputs become a local variable inside the function (as well as any other variable created within the function). You can do anything you would normally want to do to a variable with the input variable within the function. However, these local variables are not accessible outside of the function. In the above function, we were able to call input_value as a variable, but now if we try to print what input_value is outside of the function, that variable no longer exists. If we care about those variable, we must return them."
   ]
  },
  {
   "cell_type": "code",
   "execution_count": null,
   "metadata": {},
   "outputs": [],
   "source": [
    "print(input_value)"
   ]
  },
  {
   "cell_type": "markdown",
   "metadata": {},
   "source": [
    "Now that our function is defined, we can run it as often as we want and save the output as a new variable, which can then be used for whatever else we would like to do."
   ]
  },
  {
   "cell_type": "code",
   "execution_count": null,
   "metadata": {},
   "outputs": [],
   "source": [
    "plus2_result = plus2(input_value = 100)\n",
    "print(plus2_result)\n",
    "print(plus2_result / 2)"
   ]
  },
  {
   "cell_type": "markdown",
   "metadata": {},
   "source": [
    "Functions can also take multiple inputs. By default these inputs are assigned based on the order you provide the inputs."
   ]
  },
  {
   "cell_type": "code",
   "execution_count": null,
   "metadata": {
    "collapsed": true
   },
   "outputs": [],
   "source": [
    "def my_function(val1,val2,val3):\n",
    "    print('Input1:' + str(val1))\n",
    "    print('Input2:' + str(val2))\n",
    "    print('Input3:' + str(val3))\n",
    "    return val1+val2+val3"
   ]
  },
  {
   "cell_type": "code",
   "execution_count": null,
   "metadata": {},
   "outputs": [],
   "source": [
    "my_function(1,2,3)"
   ]
  },
  {
   "cell_type": "markdown",
   "metadata": {},
   "source": [
    "You can also manually set the values for specific function inputs, regardless of the order provided:"
   ]
  },
  {
   "cell_type": "code",
   "execution_count": null,
   "metadata": {},
   "outputs": [],
   "source": [
    "test1 = my_function(val2=100,val1=200,val3=300)"
   ]
  },
  {
   "cell_type": "markdown",
   "metadata": {},
   "source": [
    "If you are interested in returning multiple results/variables, making a dictionary of results to return could be a good idea"
   ]
  },
  {
   "cell_type": "code",
   "execution_count": null,
   "metadata": {
    "collapsed": true
   },
   "outputs": [],
   "source": [
    "def my_function_dict(val1,val2,val3):\n",
    "    my_dict = {}\n",
    "    my_dict['input1'] = val1\n",
    "    my_dict['input2'] = val2\n",
    "    my_dict['input3'] = val3\n",
    "    my_dict['result'] = val1 + val2 + val3\n",
    "    return my_dict"
   ]
  },
  {
   "cell_type": "code",
   "execution_count": null,
   "metadata": {},
   "outputs": [],
   "source": [
    "res_dict = my_function_dict(5,10,2)\n",
    "print(res_dict)\n",
    "print(res_dict['input2'])\n",
    "print(res_dict['result'])"
   ]
  },
  {
   "cell_type": "markdown",
   "metadata": {},
   "source": [
    "Function variables can be given default values to make life easier on the function user.  Here we find the nth substring in a string but default the value to the 2nd.  Note that default value function arguments need to come after all of the arguments without default values."
   ]
  },
  {
   "cell_type": "code",
   "execution_count": null,
   "metadata": {
    "collapsed": true
   },
   "outputs": [],
   "source": [
    "def findnthsubstring(mystr,substr,n=2):\n",
    "    #it's a good idea to describe what your function does with comments\n",
    "    #this function finds the nth instance of substr in mystr\n",
    "    pos=0\n",
    "    i=0\n",
    "    while(i<n):\n",
    "        pos=mystr.find(substr,pos+1)\n",
    "        i+=1\n",
    "    return pos"
   ]
  },
  {
   "cell_type": "code",
   "execution_count": null,
   "metadata": {},
   "outputs": [],
   "source": [
    "#run the function like normal\n",
    "findnthsubstring(my_string,'fun',1)"
   ]
  },
  {
   "cell_type": "code",
   "execution_count": null,
   "metadata": {},
   "outputs": [],
   "source": [
    "#if we omit the last variable, the default value is used\n",
    "findnthsubstring(my_string,'fun')"
   ]
  },
  {
   "cell_type": "markdown",
   "metadata": {},
   "source": [
    "If functions are bricks in a house we are building, it's nice to be able to save them in a separate file and import them into our code.  Python will import any text file with extension .py in the same folder as your notebook.  Let's save our findnthsubstring function to a file called myimport.py.\n",
    "\n",
    "On command line you can quickly create a new .py file and just copy the function over into the new file, but this gets a little more complex in a jupyter notebook session, but I think doing so introduces a couple new helpful things:  \n",
    "\n",
    "1: To create a multi-line string, use three sets of quotes in a row on both ends of your string, as seen below. \n",
    "\n",
    "2: Writing to a file:  \n",
    "    - Three options for opening a file: a(append), r(read), w(write)   \n",
    "    - writelines: method that writes the string line-by-line to the file  \n",
    "    - Make sure to close the file!  \n",
    "\n"
   ]
  },
  {
   "cell_type": "code",
   "execution_count": null,
   "metadata": {
    "collapsed": true
   },
   "outputs": [],
   "source": [
    "function_str = \"\"\"\n",
    "def findnthsubstring(mystr,substr,n=2):\n",
    "    #it's a good idea to describe what your function does with comments\n",
    "    #this function finds the nth instance of substr in mystr\n",
    "    pos=0\n",
    "    i=0\n",
    "    while(i<n):\n",
    "        pos=mystr.find(substr,pos+1)\n",
    "        i+=1\n",
    "    return pos\n",
    "\"\"\"\n",
    "\n",
    "with open(\"myimport.py\",\"w\") as f:\n",
    "    f.writelines(function_str)\n",
    "\n",
    "f.close()"
   ]
  },
  {
   "cell_type": "markdown",
   "metadata": {},
   "source": [
    "## Exercise 2\n",
    "\n",
    "Write a function that for a given input, returns whether it starts with the letter 'A' or not."
   ]
  },
  {
   "cell_type": "code",
   "execution_count": null,
   "metadata": {
    "collapsed": true
   },
   "outputs": [],
   "source": []
  },
  {
   "cell_type": "markdown",
   "metadata": {},
   "source": [
    "## List Comprehension\n",
    "\n",
    "List comprehension allows us to generate a new list based on values of a previous list. It combines the list data structure from last week, for loops, and if statements into a single helpful format.\n",
    "\n",
    "Let's say we have a list of genes and want to pull out all the mitochondrial genes (with the \"mt-\" pattern). If you were to achieve this without list comprehension it would look like this:"
   ]
  },
  {
   "cell_type": "code",
   "execution_count": null,
   "metadata": {},
   "outputs": [],
   "source": [
    "#make a list of genes\n",
    "gene_list = ['mt-gene1','SOX4','HOX4','mt-gene2','Sept7']\n",
    "\n",
    "#make an empty output list to append our mt genes to\n",
    "mt_gene_list = []\n",
    "\n",
    "for gene in gene_list:\n",
    "    if \"mt-\" in gene:\n",
    "        mt_gene_list.append(gene)\n",
    "print(mt_gene_list)"
   ]
  },
  {
   "cell_type": "markdown",
   "metadata": {},
   "source": [
    "It's too bad but it requires a good amount of nested structures to keep track of. List comprehension can help us simplify this greatly:\n"
   ]
  },
  {
   "cell_type": "code",
   "execution_count": null,
   "metadata": {},
   "outputs": [],
   "source": [
    "#List Comprehension\n",
    "mt_gene_list = [gene for gene in gene_list if \"mt\" in gene]\n",
    "print(mt_gene_list)"
   ]
  },
  {
   "cell_type": "markdown",
   "metadata": {},
   "source": [
    "We can even apply additional functions or methods if we wanted to do something like converting the mt genes to uppercase:"
   ]
  },
  {
   "cell_type": "code",
   "execution_count": null,
   "metadata": {},
   "outputs": [],
   "source": [
    "mt_upper_gene_list = [gene.upper() for gene in gene_list if \"mt\" in gene]\n",
    "print(mt_upper_gene_list)"
   ]
  },
  {
   "cell_type": "markdown",
   "metadata": {},
   "source": [
    "So now that we see how using list comprehension can help make our code simplier and shorter. How are they constructed?\n",
    "\n",
    "The syntax follows this pattern:\n",
    "\n",
    "newlist = [**expression** for **item** in **iterable** if **condition**]  \n",
    "\n",
    "Let's break this down:  \n",
    "expression: gene.upper()  \n",
    "item in iterable: gene in gene_list  \n",
    "condition: if \"mt\" in gene  \n",
    "\n",
    "For each item (gene) in our iterable (gene_list), check the condition (see if it contains 'mt'). If so, run the expression (gene.upper) and place it in the newlist (mt_upper_gene_list)"
   ]
  },
  {
   "cell_type": "markdown",
   "metadata": {},
   "source": [
    "## Exercise  3\n",
    "\n",
    "Using list comprehension with the num_list provided below and the plus2 function from earlier, generate a list that adds 2 to any value in num_list greater than or equal to 6.  "
   ]
  },
  {
   "cell_type": "code",
   "execution_count": null,
   "metadata": {},
   "outputs": [],
   "source": [
    "num_list = [0,1,2,6,7,8]\n",
    "num_list_p2 = ##insert code here\n",
    "print(num_list_p2)"
   ]
  },
  {
   "cell_type": "markdown",
   "metadata": {},
   "source": [
    "## Imports"
   ]
  },
  {
   "cell_type": "code",
   "execution_count": null,
   "metadata": {
    "collapsed": true
   },
   "outputs": [],
   "source": [
    "import myimport #note that you can create text files and save them as .py from jupyter"
   ]
  },
  {
   "cell_type": "markdown",
   "metadata": {},
   "source": [
    "To save time and environment space, you can also choose specific functions to import from a package instead of importing the entire thing. This doesn't really do anything here, but can make a noticable difference with giant machine learning packages."
   ]
  },
  {
   "cell_type": "code",
   "execution_count": null,
   "metadata": {
    "collapsed": true
   },
   "outputs": [],
   "source": [
    "from myimport import findnthsubstring"
   ]
  },
  {
   "cell_type": "code",
   "execution_count": null,
   "metadata": {},
   "outputs": [],
   "source": [
    "#now call it from our import\n",
    "myimport.findnthsubstring(my_string,'fun')"
   ]
  },
  {
   "cell_type": "markdown",
   "metadata": {},
   "source": [
    "As we move into more advanced python concepts, we will use imports to bring in coding tools like numpy, matplotlib, and pandas."
   ]
  },
  {
   "cell_type": "code",
   "execution_count": null,
   "metadata": {
    "collapsed": true
   },
   "outputs": [],
   "source": []
  }
 ],
 "metadata": {
  "kernelspec": {
   "display_name": "Python 3 (ipykernel)",
   "language": "python",
   "name": "python3"
  },
  "language_info": {
   "codemirror_mode": {
    "name": "ipython",
    "version": 3
   },
   "file_extension": ".py",
   "mimetype": "text/x-python",
   "name": "python",
   "nbconvert_exporter": "python",
   "pygments_lexer": "ipython3",
   "version": "3.9.13"
  }
 },
 "nbformat": 4,
 "nbformat_minor": 5
}
