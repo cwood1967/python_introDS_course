{
 "cells": [
  {
   "cell_type": "markdown",
   "id": "5bcef31f",
   "metadata": {},
   "source": [
    "\n",
    "# Intro to Python\n",
    "\n",
    "This tutorial will cover the following topics:\n",
    "\n",
    "* basics of jupyter notebooks\n",
    "* variables\n",
    "* operators\n",
    "* lists\n",
    "* dictionaries\n",
    "\n",
    "[![Open In Colab](https://colab.research.google.com/assets/colab-badge.svg)](http://colab.research.google.com/github/jayunruh/python_introDS_course/blob/master/python_class_01.ipynb)"
   ]
  },
  {
   "cell_type": "markdown",
   "id": "dfae322e",
   "metadata": {},
   "source": [
    "# Jupyter Notebooks\n",
    "## Markdown blocks\n",
    "* Jupyter notebooks are an _interactive_ notebook used to run code (mostly Python, but it can do other languages)\n",
    "* A 'cell' is a section of markdown or code that can be run\n",
    "\n",
    "  * This is a markdown cell\n",
    "\n",
    "* You'll notice that the formatting changes inside the cell when you are editing, and after you 'run' the cell\n",
    "\n",
    "* You can create nicely formatted blocks of text with markdown [here's a great cheatsheet!](https://www.ibm.com/docs/en/watson-studio-local/1.2.3?topic=notebooks-markdown-jupyter-cheatsheet)\n",
    "\n",
    "* Markdown sections be used to split up your analysis, and help define the 'story' of your analysis.\n"
   ]
  },
  {
   "cell_type": "markdown",
   "id": "54e5d8cd",
   "metadata": {},
   "source": [
    "#\n",
    "### Objects\n",
    "\n",
    "* Python is an object orientated programming language, meaning almost everything you interact with is an _object_\n",
    "  * An object is basically a fancy way to describe a collection of data (a _variable_) and a associated methods (_functions_)\n",
    "\n",
    "### Variables\n",
    "\n",
    "* Variables are the staple of any programming language.  They are simply names that act as placeholders for values.  Those values could be numbers or text strings (or objects, like a table!).  \n",
    "  * There are few rules on naming them, but they cannot contain spaces or operators (e.g. + or -) or python keywords.  To create and assign a variable, simply enter it's name with = and the assignment value.\n",
    "\n",
    "   * Tip: It's also good practice to avoid using spaces or operators in your file names!\n",
    "\n",
    "* Not all variables are created equal - in fact, there are several different types of variables, but the underlying principles are the same!\n",
    "\n",
    "### Functions\n",
    "\n",
    "* Don't worry - we won't learn too much about functions today. For our purposes, just keep in mind that everytime you 'print' something, or find the max value, or do anything that involves closing a \n",
    "variable in paranetheses or using a '.' at the end of a variable you're calling a function!\n"
   ]
  },
  {
   "cell_type": "code",
   "execution_count": null,
   "id": "cd35e2c3",
   "metadata": {},
   "outputs": [],
   "source": [
    "print(\"This is a code block!\")\n",
    "print(\"When you hit shift+enter, or click the 'play' button - the code in this block will be executed!\")\n",
    "print(\"You can rerun a cell at any time, but you must be careful not to overwrite existing variables\")\n"
   ]
  },
  {
   "cell_type": "markdown",
   "id": "f7b4f965",
   "metadata": {},
   "source": [
    "### Creating, viewing and manipulating variables\n",
    "\n",
    "1. Assign a variable using the '=' operator\n",
    "2. View the contents of a variable using the `print` function\n",
    "3. View the type of a variable usign the `type` function"
   ]
  },
  {
   "cell_type": "code",
   "execution_count": null,
   "id": "ac5e7f96",
   "metadata": {},
   "outputs": [],
   "source": [
    "# This is a comment. Comments are identified by using the '#' symbol, and are not run as code.\n",
    "my_variable = 2 \n",
    "my_string = \"This is a string\" \n",
    "print(my_variable)\n",
    "print(type(my_variable))\n",
    "print(my_string)\n",
    "print(type(my_string))"
   ]
  },
  {
   "cell_type": "markdown",
   "id": "7f6b3281",
   "metadata": {},
   "source": [
    "* Different `types` of variables have different methods (read: built-in functions) associated with them. For instance, you can use any mathematical operation on any variable that's an int, like `my_variable`\n",
    "  * Variables don't always share the same methods. Check out what happens when you try to divide `my_string` by 2"
   ]
  },
  {
   "cell_type": "code",
   "execution_count": null,
   "id": "24870bac",
   "metadata": {},
   "outputs": [],
   "source": [
    "#create a new variable \"half_variable\" and set it to my_variable/2\n",
    "half_variable=my_variable/2\n",
    "#now report that value and it's type\n",
    "print(half_variable)\n",
    "print(type(half_variable))\n",
    "\n",
    "# What happens if I try to divide a string by 2?\n",
    "my_string/2"
   ]
  },
  {
   "cell_type": "markdown",
   "id": "df63a1c2",
   "metadata": {},
   "source": [
    "* In addition to type, there are a few more helpful methods to view the contents and characteristics of a variable\n",
    "  * This include useful information about what methods are available, and even documentation about the creation of the variable\n",
    "\n",
    "* Don't worry too much about reading the code output - right now it's enough to know that the information is available to you"
   ]
  },
  {
   "cell_type": "code",
   "execution_count": null,
   "id": "4c69db9c",
   "metadata": {},
   "outputs": [],
   "source": [
    "print(my_string.__doc__)\n",
    "\n",
    "dir(my_string)"
   ]
  },
  {
   "cell_type": "markdown",
   "id": "2284458b",
   "metadata": {},
   "source": [
    "* Sometimes, performing an operation on a variable is enough to change it's `type` and therefore the methods available to it (and therefore the things you can do to it!)"
   ]
  },
  {
   "cell_type": "code",
   "execution_count": null,
   "id": "55aea7d1",
   "metadata": {},
   "outputs": [],
   "source": [
    "my_num = 1\n",
    "my_string_num = '1'\n",
    "\n",
    "print(my_num/2)\n",
    "print(my_string_num.upper()) \n",
    "\n",
    "my_num == my_string_num"
   ]
  },
  {
   "cell_type": "markdown",
   "id": "0b3fa7d6",
   "metadata": {},
   "source": [
    "* Sometimes you may want to intentionally change the type of the variable you're working with"
   ]
  },
  {
   "cell_type": "code",
   "execution_count": null,
   "id": "87e30ce1",
   "metadata": {},
   "outputs": [],
   "source": [
    "my_num_str = str(my_num)\n",
    "print(my_num_str)\n",
    "print(type(my_num_str))"
   ]
  },
  {
   "cell_type": "markdown",
   "id": "0e15bdb6",
   "metadata": {},
   "source": [
    "* There are quite a few fun operators that you may have seen before, including `==` or `!=` and `+=` or `-=`"
   ]
  },
  {
   "cell_type": "code",
   "execution_count": null,
   "id": "0e9a0fc0",
   "metadata": {},
   "outputs": [],
   "source": [
    "#try incrementing our half_variable\n",
    "half_variable+=1\n",
    "print(half_variable)\n",
    "#is it equal to the original now?\n",
    "print(half_variable==my_variable)\n",
    "print(half_variable != my_variable)"
   ]
  },
  {
   "cell_type": "markdown",
   "id": "89027b48",
   "metadata": {},
   "source": [
    "* One of the interesting and powerful things about variables is that they can contain boolean (true or false) values:"
   ]
  },
  {
   "cell_type": "code",
   "execution_count": null,
   "id": "b20e8c66",
   "metadata": {},
   "outputs": [],
   "source": [
    "isequal=half_variable==my_variable\n",
    "print(isequal)"
   ]
  },
  {
   "cell_type": "markdown",
   "id": "0cead8d9",
   "metadata": {},
   "source": [
    "### Lists\n",
    "* The real power of programming is doing large number of operations at once.  To collect variables together we use lists.  Those of course get assigned to variables.  Once you make a list you can access it's values through bracketed indexes. \n",
    "  * A `list` does not take on the methods of the attributes it contains, instead it has it's own list of methods.\n",
    "\n",
    "\n",
    "* Note that unlike R, Python indexing starts at '0'"
   ]
  },
  {
   "cell_type": "code",
   "execution_count": null,
   "id": "a25ff127",
   "metadata": {},
   "outputs": [],
   "source": [
    "my_array=[10.0,20.0,25.0]\n",
    "print(type(my_array))\n",
    "print(my_array[0])\n",
    "print(my_array[2])"
   ]
  },
  {
   "cell_type": "code",
   "execution_count": null,
   "id": "f04689a5",
   "metadata": {},
   "outputs": [],
   "source": [
    "#len gets the length of an array\n",
    "print(len(my_array))"
   ]
  },
  {
   "cell_type": "markdown",
   "id": "66b54825",
   "metadata": {},
   "source": [
    "* How can you access elements of your list?\n",
    "  * The power of indexing!"
   ]
  },
  {
   "cell_type": "code",
   "execution_count": null,
   "id": "25ea1638",
   "metadata": {},
   "outputs": [],
   "source": [
    "print(my_array[-1]) #this is the last array value\n",
    "print(my_array[-2]) #this is the second to last value"
   ]
  },
  {
   "cell_type": "markdown",
   "id": "56e05a57",
   "metadata": {},
   "source": [
    "* You can work with list values just like any other variables.  You can combine arrays using the + operator."
   ]
  },
  {
   "cell_type": "code",
   "execution_count": null,
   "id": "549cac75",
   "metadata": {},
   "outputs": [],
   "source": [
    "long_array=my_array+[0,1,2]\n",
    "print(long_array)"
   ]
  },
  {
   "cell_type": "markdown",
   "id": "a714d97a",
   "metadata": {},
   "source": [
    "* You may have noticed that python is ok with mixing data types in arrays.  You can add to an array with \"append\"."
   ]
  },
  {
   "cell_type": "code",
   "execution_count": null,
   "id": "6e5731db",
   "metadata": {},
   "outputs": [],
   "source": [
    "long_array.append(5)\n",
    "print(long_array)"
   ]
  },
  {
   "cell_type": "markdown",
   "id": "0b3cdf7e",
   "metadata": {},
   "source": [
    "* You can get parts of an array with \"slicing\" with start:end+1 notation:"
   ]
  },
  {
   "cell_type": "code",
   "execution_count": null,
   "id": "b7ec463b",
   "metadata": {},
   "outputs": [],
   "source": [
    "long_array[1:4]"
   ]
  },
  {
   "cell_type": "markdown",
   "id": "0a88135c",
   "metadata": {},
   "source": [
    "* If you want to create an array of repeated items, you can multiply it by the number of repeats:"
   ]
  },
  {
   "cell_type": "code",
   "execution_count": null,
   "id": "4dd0bd72",
   "metadata": {},
   "outputs": [],
   "source": [
    "my_repeats=[5]*5\n",
    "print(my_repeats)"
   ]
  },
  {
   "cell_type": "markdown",
   "id": "3c3f505e",
   "metadata": {},
   "source": [
    "If you want you can even make lists of lists--the repeat multiplication works for this too.  This is as close as python gets to multidimensional arrays outside of numpy."
   ]
  },
  {
   "cell_type": "code",
   "execution_count": null,
   "id": "b57f9867",
   "metadata": {},
   "outputs": [],
   "source": [
    "list_list=[long_array]*3\n",
    "print(list_list)"
   ]
  },
  {
   "cell_type": "markdown",
   "id": "11b1ad79",
   "metadata": {},
   "source": [
    "### Dictionaries \n",
    "* Lists are a special type of construct called a \"sequence\".  Note that text strings and dataframes are also sequences.  Dictionaries are a kind of construct that is not a sequence--values are assigned by name rather than index:"
   ]
  },
  {
   "cell_type": "code",
   "execution_count": null,
   "id": "5d0094de",
   "metadata": {},
   "outputs": [],
   "source": [
    "my_dictionary={'value1':10.0,'value2':20.0,'another_value':1,10:3}\n",
    "print(my_dictionary)\n"
   ]
  },
  {
   "cell_type": "markdown",
   "id": "683348b8",
   "metadata": {},
   "source": [
    "* Accessing the value of a key is as simple as calling the dictionary with the key of choice"
   ]
  },
  {
   "cell_type": "code",
   "execution_count": null,
   "id": "51b676c0",
   "metadata": {},
   "outputs": [],
   "source": [
    "print(my_dictionary['value2'])\n",
    "print(my_dictionary['another_value'])\n",
    "print(my_dictionary[10])"
   ]
  },
  {
   "cell_type": "markdown",
   "id": "06c3e089",
   "metadata": {},
   "source": [
    "* You can also access keys and values independently of each other"
   ]
  },
  {
   "cell_type": "code",
   "execution_count": null,
   "id": "902d39e9",
   "metadata": {},
   "outputs": [],
   "source": [
    "print(my_dictionary.keys())\n",
    "print(my_dictionary.values())\n",
    "max(my_dictionary.values())"
   ]
  },
  {
   "cell_type": "markdown",
   "id": "baad3bd1",
   "metadata": {},
   "source": [
    "* Dictionaries are great ways to store information by label rather than by numerical index.  You can add values to a dictionary through simple assignment."
   ]
  },
  {
   "cell_type": "code",
   "execution_count": null,
   "id": "a9a9a443",
   "metadata": {},
   "outputs": [],
   "source": [
    "my_dictionary['a_string']='value'\n",
    "print(my_dictionary)"
   ]
  },
  {
   "cell_type": "code",
   "execution_count": null,
   "id": "fa10f3f1",
   "metadata": {},
   "outputs": [],
   "source": [
    "max(my_dictionary.values())"
   ]
  },
  {
   "cell_type": "markdown",
   "id": "858d84e3",
   "metadata": {},
   "source": [
    "# On reading error codes and troubleshooting issues\n",
    "\n",
    "* The number one skill in programming is learning to read error messages - most of they time they're going to be pretty informative. \n",
    "* You can use google to search for errors - but it's most likely going to take you to StackOverflow: https://stackoverflow.com/"
   ]
  },
  {
   "cell_type": "markdown",
   "id": "4361b0a9",
   "metadata": {},
   "source": [
    "# On the possible pitfalls of Jupyter Notebooks\n",
    "* The order that you run cells in is important - it is easy to overwrite a variable in a later chunk such that re-running an earlier chunk creates a different results"
   ]
  },
  {
   "cell_type": "code",
   "execution_count": null,
   "id": "38de3880",
   "metadata": {},
   "outputs": [],
   "source": [
    "my_example = \"pretend this is the result of a super complex dataframe manipulation\""
   ]
  },
  {
   "cell_type": "code",
   "execution_count": null,
   "id": "a7d9c094",
   "metadata": {},
   "outputs": [],
   "source": [
    "my_example[0] == 'p'"
   ]
  },
  {
   "cell_type": "code",
   "execution_count": null,
   "id": "25981b4a",
   "metadata": {},
   "outputs": [],
   "source": [
    "my_example = my_example.upper()"
   ]
  },
  {
   "cell_type": "markdown",
   "id": "2defad66",
   "metadata": {},
   "source": [
    "# On examples that we can do if we have time..."
   ]
  },
  {
   "cell_type": "code",
   "execution_count": null,
   "id": "668ec4ca",
   "metadata": {},
   "outputs": [],
   "source": [
    "# What are the types of the 3 values in our dictionary? What methods are available to them?\n",
    "my_dict = {\n",
    "    'value1': 'string',\n",
    "    'value2': 2,\n",
    "    'value3': {\"my_dict_of_dicts\": 1}\n",
    "}"
   ]
  }
 ],
 "metadata": {
  "kernelspec": {
   "display_name": "Python 3",
   "language": "python",
   "name": "python3"
  },
  "language_info": {
   "codemirror_mode": {
    "name": "ipython",
    "version": 3
   },
   "file_extension": ".py",
   "mimetype": "text/x-python",
   "name": "python",
   "nbconvert_exporter": "python",
   "pygments_lexer": "ipython3",
   "version": "3.9.16"
  },
  "vscode": {
   "interpreter": {
    "hash": "949777d72b0d2535278d3dc13498b2535136f6dfe0678499012e853ee9abcab1"
   }
  }
 },
 "nbformat": 4,
 "nbformat_minor": 5
}
