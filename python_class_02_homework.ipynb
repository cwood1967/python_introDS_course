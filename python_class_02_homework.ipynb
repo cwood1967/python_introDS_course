{
 "cells": [
  {
   "cell_type": "markdown",
   "metadata": {},
   "source": [
    "[![Open In Colab](https://colab.research.google.com/assets/colab-badge.svg)](http://colab.research.google.com/github/jayunruh/python_introDS_course/blob/master/python_class_02_homework.ipynb)\n",
    "\n",
    "The yeast protein spt4 is in a region of the genome with this sequence: CATTCAGTTTGGCAAAAGCGAACGAGGTACAGTGTAAGAGATGTCTAGTGAAAGAGCCTGTATGCTGTGTGGCATAGTGCAGACCACAAAT\n",
    "GAGTTTAATAGAGATGGTTGTCCCAACTGTCAGGGTATTTTTGAAGAGGCAGGTGTTTCTACAATGGAATGTACGTCGCCTTCTTTCGAGG\n",
    "GCCTCGTAGGAATGTGTAAGCCTACTAAGTCGTGGGTAGCAAAGTGGCTGAGCGTAGATCATAGTATAGCTGGTATGTACGCCATCAAGGT\n",
    "CGATGGTAGACTACCAGCTGAGGTTGTGGAGCTGTTGCCTCACTACAAACCGAGGGATGGCAGTCAAGTTGAGTAAAACCTTCCGTTCTGA\n",
    "TATCACATGTATAATAGTAATGAATTTTTTTTACTTTTTTTTTTTTTT.  \n",
    "Protein sequences start with the letters \"ATG\".  Create a string with this sequencde and use the find command to get the starting point of the gene in this sequence."
   ]
  },
  {
   "cell_type": "code",
   "execution_count": null,
   "metadata": {
    "collapsed": true
   },
   "outputs": [],
   "source": [
    "myseq='CATTCAGTTTGGCAAAAGCGAACGAGGTACAGTGTAAGAGATGTCTAGTGAAAGAGCCTGTATGCTGTGTGGCATAGTGCAGACCACAAATGAGTTTAATAGAGATGGTTGTCCCAACTGTCAGGGTATTTTTGAAGAGGCAGGTGTTTCTACAATGGAATGTACGTCGCCTTCTTTCGAGGGCCTCGTAGGAATGTGTAAGCCTACTAAGTCGTGGGTAGCAAAGTGGCTGAGCGTAGATCATAGTATAGCTGGTATGTACGCCATCAAGGTCGATGGTAGACTACCAGCTGAGGTTGTGGAGCTGTTGCCTCACTACAAACCGAGGGATGGCAGTCAAGTTGAGTAAAACCTTCCGTTCTGATATCACATGTATAATAGTAATGAATTTTTTTTACTTTTTTTTTTTTTT'"
   ]
  },
  {
   "cell_type": "markdown",
   "metadata": {},
   "source": [
    "Gene sequences often end with the \"stop codon\" sequence \"TAA\".  But there's a catch--that stop sequence needs to be a multiple of 3 letters away from the start sequence (each 3 letters indicates one protein amino acid).  Find a stop sequence after the start sequence from above and use modulus to check if it is a multiple of 3 letters away."
   ]
  },
  {
   "cell_type": "code",
   "execution_count": null,
   "metadata": {
    "collapsed": true
   },
   "outputs": [],
   "source": []
  },
  {
   "cell_type": "markdown",
   "metadata": {},
   "source": [
    "Clearly the first end sequence is not a multiple of 3 away from the first.  Let's try the next few."
   ]
  },
  {
   "cell_type": "code",
   "execution_count": null,
   "metadata": {
    "collapsed": true
   },
   "outputs": [],
   "source": []
  },
  {
   "cell_type": "markdown",
   "metadata": {},
   "source": [
    "Now use slicing to show only the protein coding sequence and get it's length and number of amino acids (multiples of 3)."
   ]
  },
  {
   "cell_type": "code",
   "execution_count": null,
   "metadata": {
    "collapsed": true
   },
   "outputs": [],
   "source": []
  },
  {
   "cell_type": "markdown",
   "metadata": {},
   "source": [
    "Now let's write a while loop to automate this search process."
   ]
  },
  {
   "cell_type": "code",
   "execution_count": null,
   "metadata": {
    "collapsed": true
   },
   "outputs": [],
   "source": []
  },
  {
   "cell_type": "markdown",
   "metadata": {},
   "source": [
    "It would be cool if we could put this in a function and use it over and over again.  Make a function that takes our sequence and finds the start and end positions of the gene.  Note that you can return a list from a function."
   ]
  },
  {
   "cell_type": "code",
   "execution_count": null,
   "metadata": {
    "collapsed": true
   },
   "outputs": [],
   "source": []
  },
  {
   "cell_type": "code",
   "execution_count": null,
   "metadata": {
    "collapsed": true
   },
   "outputs": [],
   "source": []
  },
  {
   "cell_type": "markdown",
   "metadata": {},
   "source": [
    "Finally put your function in a text file called myseqanalysis.py and import and run it."
   ]
  },
  {
   "cell_type": "code",
   "execution_count": null,
   "metadata": {
    "collapsed": true
   },
   "outputs": [],
   "source": []
  }
 ],
 "metadata": {
  "kernelspec": {
   "display_name": "Python 3",
   "language": "python",
   "name": "python3"
  },
  "language_info": {
   "codemirror_mode": {
    "name": "ipython",
    "version": 3
   },
   "file_extension": ".py",
   "mimetype": "text/x-python",
   "name": "python",
   "nbconvert_exporter": "python",
   "pygments_lexer": "ipython3",
   "version": "3.9.16"
  }
 },
 "nbformat": 4,
 "nbformat_minor": 2
}
