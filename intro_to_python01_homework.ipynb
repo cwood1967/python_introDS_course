{
 "cells": [
  {
   "cell_type": "markdown",
   "id": "ce681f16",
   "metadata": {},
   "source": [
    "[![Open In Colab](https://colab.research.google.com/assets/colab-badge.svg)](http://colab.research.google.com/github/jayunruh/python_introDS_course/blob/master/intro_to_python01_homework.ipynb)\n",
    "Below each markdown block, create a code block with the solution to the question."
   ]
  },
  {
   "cell_type": "markdown",
   "id": "169185ef",
   "metadata": {},
   "source": [
    "To start, make a variable called \"myvar\" and set it equal to the boolean value \"True\" and another one called \"myfloat\" and set it equal to 5.0.  Print the variables and print their data types.\n"
   ]
  },
  {
   "cell_type": "markdown",
   "id": "720c9c05",
   "metadata": {},
   "source": [
    "Now try adding those variables together and print the results."
   ]
  },
  {
   "cell_type": "markdown",
   "id": "60245df7",
   "metadata": {},
   "source": [
    "So boolean variables are converted to 1 if true.  Make a false variable and see what it adds up to:"
   ]
  },
  {
   "cell_type": "markdown",
   "id": "bc63c43e",
   "metadata": {},
   "source": [
    "Unsurprisingly it's 0.  One handy operator we haven't talked about so far is the modulus operator (%).  Google that operator and try it out:"
   ]
  },
  {
   "cell_type": "markdown",
   "id": "68ab5cfc",
   "metadata": {},
   "source": [
    "Now make a list of integers from 10 to 15 and assign it to a variable.  Print the third to last item with negative indexing."
   ]
  },
  {
   "cell_type": "markdown",
   "id": "50e0c9f5",
   "metadata": {},
   "source": [
    "Now use list addition (+) to add on a list going from 15 back down to 10."
   ]
  },
  {
   "cell_type": "markdown",
   "id": "a538a7ea",
   "metadata": {},
   "source": [
    "Now print a slice of this list with the last 5 items.  Note that if you leave nothing to the right of the : slicing defaults to the end of the list."
   ]
  },
  {
   "cell_type": "markdown",
   "id": "dce0b46e",
   "metadata": {},
   "source": [
    "Now make a list of 10 repeats of the value 2.5 and print it."
   ]
  },
  {
   "cell_type": "markdown",
   "id": "87b7093b",
   "metadata": {},
   "source": [
    "Finally make a dictionary with last name keys and first name values for 5 of your freinds or acquaintances including yourself.  Print the value corresponding to someone's last name."
   ]
  },
  {
   "cell_type": "markdown",
   "id": "ba5968f9",
   "metadata": {},
   "source": [
    "Finally list all of the last names in that group."
   ]
  },
  {
   "cell_type": "markdown",
   "id": "7e201032",
   "metadata": {},
   "source": [
    "Now make a dictionary of ingredient amounts for a simple recipe.  Print a selected ingredient amount as well as the list of ingredients."
   ]
  },
  {
   "cell_type": "markdown",
   "id": "4ee38a5f",
   "metadata": {},
   "source": [
    "* Given the dictionary below, create a new type of ingredient - combine Chicken, Scallions and Baby Carrots into one ingredient called 'ChickScallBabyCarrots' by accessing the appropiate value, slicing the strings as needed, and then finally merging them together.\n",
    "\n",
    "Hint: Use `list(ingredient_dict.keys())` to get a list of the keys. You can also use the [] notation to create a list."
   ]
  },
  {
   "cell_type": "code",
   "execution_count": 12,
   "id": "7adc7073",
   "metadata": {},
   "outputs": [
    {
     "data": {
      "text/plain": [
       "'ChickScallBaby_Carrots'"
      ]
     },
     "execution_count": 12,
     "metadata": {},
     "output_type": "execute_result"
    }
   ],
   "source": [
    "ingredient_dict={'Chicken':'1 lb','Chili_Sauce':'3 tbsp','Honey':'2 tbsp',\n",
    "                 'Rice':'2 cups','Scallions':'2','Baby_Carrots':'5'"
   ]
  }
 ],
 "metadata": {
  "kernelspec": {
   "display_name": "Python 3",
   "language": "python",
   "name": "python3"
  },
  "language_info": {
   "codemirror_mode": {
    "name": "ipython",
    "version": 3
   },
   "file_extension": ".py",
   "mimetype": "text/x-python",
   "name": "python",
   "nbconvert_exporter": "python",
   "pygments_lexer": "ipython3",
   "version": "3.9.16"
  },
  "vscode": {
   "interpreter": {
    "hash": "949777d72b0d2535278d3dc13498b2535136f6dfe0678499012e853ee9abcab1"
   }
  }
 },
 "nbformat": 4,
 "nbformat_minor": 5
}
