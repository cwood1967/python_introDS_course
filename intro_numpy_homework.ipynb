{
 "cells": [
  {
   "cell_type": "markdown",
   "id": "8154023b",
   "metadata": {},
   "source": [
    "# Intro to Numpy Homework\n",
    "\n",
    "A key part of programming in python (or any other language) is the need to know where to go to find help.  There are many useful sites (the numpy api page, stack overflow, geeksforgeeks, ...) but the easiest is to simply google it.  Here we are going to walk through the concepts from the numpy lesson and google when we need more information.\n",
    "\n",
    "[![Open In Colab](https://colab.research.google.com/assets/colab-badge.svg)](http://colab.research.google.com/github/jayunruh/python_introDS_course/blob/master/intro_numpy_homework.ipynb)"
   ]
  },
  {
   "cell_type": "markdown",
   "id": "c448f31e",
   "metadata": {},
   "source": [
    "To start, as always, import numpy and matplotlib:"
   ]
  },
  {
   "cell_type": "code",
   "execution_count": 1,
   "id": "eb9ac2de",
   "metadata": {},
   "outputs": [],
   "source": [
    "#import here"
   ]
  },
  {
   "cell_type": "markdown",
   "id": "7e63b989",
   "metadata": {},
   "source": [
    "Firstly, let's use a numpy function called logspace to create an log base 10 spaced array from 0.01 to 6.14 with 20 points in it.  Don't know how to use logspace?  Google it!  Print your array to see what it output.  Then plot the array."
   ]
  },
  {
   "cell_type": "code",
   "execution_count": 2,
   "id": "424f768c",
   "metadata": {},
   "outputs": [],
   "source": [
    "#put your code here"
   ]
  },
  {
   "cell_type": "code",
   "execution_count": 3,
   "id": "142edafb",
   "metadata": {},
   "outputs": [],
   "source": [
    "#show your plot here"
   ]
  },
  {
   "cell_type": "markdown",
   "id": "5dc27ca2",
   "metadata": {},
   "source": [
    "The matplotlib plot function has format codes to change how a plot looks.  Show the plot as connected red points (as before google it if you don't know how)."
   ]
  },
  {
   "cell_type": "code",
   "execution_count": 4,
   "id": "a0867320",
   "metadata": {},
   "outputs": [],
   "source": [
    "#show the updated plot here"
   ]
  },
  {
   "cell_type": "markdown",
   "id": "4f53a472",
   "metadata": {},
   "source": [
    "Now stack 20 of these together into a numpy array (as we did in the lesson) and show the corresponding image."
   ]
  },
  {
   "cell_type": "code",
   "execution_count": 5,
   "id": "97cafaf9",
   "metadata": {},
   "outputs": [],
   "source": [
    "#show the stacked image here"
   ]
  },
  {
   "cell_type": "markdown",
   "id": "a1141b98",
   "metadata": {},
   "source": [
    "The matplotlib imshow function allows for different colormaps.  Try showing our image with the jet lookup table and show the colorbar for reference.  If you don't know how?  You guessed it."
   ]
  },
  {
   "cell_type": "code",
   "execution_count": 6,
   "id": "a184791b",
   "metadata": {},
   "outputs": [],
   "source": [
    "#show the updated image here"
   ]
  },
  {
   "cell_type": "markdown",
   "id": "fc8a63fe",
   "metadata": {},
   "source": [
    "Now calculate the sine function of our stacked array and show it side by side with the stacked image and a sliced horizontal profile."
   ]
  },
  {
   "cell_type": "code",
   "execution_count": 7,
   "id": "4d348411",
   "metadata": {},
   "outputs": [],
   "source": [
    "#show the three side by side plots here"
   ]
  },
  {
   "cell_type": "markdown",
   "id": "07e33ade",
   "metadata": {},
   "source": [
    "It would be cool to do a vertical profile instead of a horizontal profile.  Of course we could calculate the profile line-by-line, but the transpose function should rotate the array for us (look it up).  Show an image of the transposed array."
   ]
  },
  {
   "cell_type": "code",
   "execution_count": 8,
   "id": "9dc8d8ac",
   "metadata": {},
   "outputs": [],
   "source": [
    "#show your transposed array here"
   ]
  },
  {
   "cell_type": "markdown",
   "id": "47cdac12",
   "metadata": {},
   "source": [
    "Looking carefully at the transpose function description it says it tries not to copy the array if possible.  Make a modification (e.g. add a number) to the transposed array and see if it affects the original--show them side by side."
   ]
  },
  {
   "cell_type": "code",
   "execution_count": 9,
   "id": "19d8495d",
   "metadata": {},
   "outputs": [],
   "source": [
    "#show the modified arrays here"
   ]
  },
  {
   "cell_type": "markdown",
   "id": "4f03e008",
   "metadata": {},
   "source": [
    "Now get back your original stacked and transposed arrays.  I want you to create a windmill shaped object by copying rotated versions of the array four times and appending them all together.  Here is a table illustrating the arrangement:\n",
    "\n",
    "&nbsp;|Col1|Col2\n",
    "-----|:---:|:---:\n",
    "**Row1** | original | transposed\n",
    "**Row2** | trans_flipped_vert | orig_flipped_hor\n",
    "\n",
    "Hint--you might need to use advanced slicing to do the flipping."
   ]
  },
  {
   "cell_type": "code",
   "execution_count": 10,
   "id": "23c3743f",
   "metadata": {},
   "outputs": [],
   "source": [
    "#use a few cells to show the progress of your windmill creation"
   ]
  },
  {
   "cell_type": "code",
   "execution_count": 11,
   "id": "7162a07d",
   "metadata": {},
   "outputs": [],
   "source": [
    "#and show the final creation"
   ]
  },
  {
   "cell_type": "markdown",
   "id": "e867b728",
   "metadata": {},
   "source": [
    "Now let's add some \"speckles\" to a copy of our windmill. Pick 40 random positions in our array and set them to 2.  Random numbers can be generated with np.random.randint (look it up).  Hint: arrays of integers can be used to slice a numpy array."
   ]
  },
  {
   "cell_type": "code",
   "execution_count": 12,
   "id": "b858e9c7",
   "metadata": {},
   "outputs": [],
   "source": [
    "#add your speckles and show them here"
   ]
  },
  {
   "cell_type": "markdown",
   "id": "8ffc19d1",
   "metadata": {},
   "source": [
    "Now use boolean array slicing to set all of those 2 values to -2 in another copy."
   ]
  },
  {
   "cell_type": "code",
   "execution_count": 13,
   "id": "bb2e5620",
   "metadata": {},
   "outputs": [],
   "source": [
    "#do the modification and show the updated image here"
   ]
  },
  {
   "cell_type": "code",
   "execution_count": null,
   "id": "35a8c36d",
   "metadata": {},
   "outputs": [],
   "source": []
  }
 ],
 "metadata": {
  "kernelspec": {
   "display_name": "startenv",
   "language": "python",
   "name": "startenv"
  },
  "language_info": {
   "codemirror_mode": {
    "name": "ipython",
    "version": 3
   },
   "file_extension": ".py",
   "mimetype": "text/x-python",
   "name": "python",
   "nbconvert_exporter": "python",
   "pygments_lexer": "ipython3",
   "version": "3.9.16"
  }
 },
 "nbformat": 4,
 "nbformat_minor": 5
}
