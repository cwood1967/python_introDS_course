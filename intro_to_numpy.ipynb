{
 "cells": [
  {
   "cell_type": "markdown",
   "id": "4f11591e",
   "metadata": {},
   "source": [
    "# Numpy is a numerical python package used mostly for multidimensional array processing.\n",
    "\n",
    "## Here we will demonstrate how to create numpy arrays and slice them in creative ways.  We will use matplotlib to show our results.\n",
    "\n",
    "[![Open In Colab](https://colab.research.google.com/assets/colab-badge.svg)](http://colab.research.google.com/github/jayunruh/python_introDS_course/blob/master/intro_to_numpy.ipynb)"
   ]
  },
  {
   "cell_type": "markdown",
   "id": "78b25a81",
   "metadata": {},
   "source": [
    "## Topics Covered:\n",
    "\n",
    "* creating and modifying numpy arrays\n",
    "* when is a copy not a copy\n",
    "* slicing arrays\n",
    "* speed, speed, and more speed\n",
    "* apply"
   ]
  },
  {
   "cell_type": "code",
   "execution_count": 1,
   "id": "785e5a0b",
   "metadata": {},
   "outputs": [],
   "source": [
    "#first let's import numpy and matplotlib\n",
    "import numpy as np\n",
    "import matplotlib.pyplot as plt"
   ]
  },
  {
   "cell_type": "code",
   "execution_count": 2,
   "id": "1d932441",
   "metadata": {},
   "outputs": [
    {
     "name": "stdout",
     "output_type": "stream",
     "text": [
      "[0 0 0 0 0 0 0 0 0 0]\n",
      "[0.5 0.5 0.5 0.5 0.5 0.5 0.5 0.5 0.5 0.5]\n",
      "[0.    0.614 1.228 1.842 2.456 3.07  3.684 4.298 4.912 5.526]\n"
     ]
    }
   ],
   "source": [
    "#if we want to create a numpy array, we can use a built in function\n",
    "myintarray=np.zeros(shape=10,dtype=int)\n",
    "print(myintarray)\n",
    "myfloatarray=np.full(shape=10,fill_value=0.5,dtype=float)\n",
    "print(myfloatarray)\n",
    "myrangearray=np.arange(start=0,stop=6.14,step=0.614,dtype=float)\n",
    "print(myrangearray)\n",
    "#note that there a lots of other array creation utilities including random numbers"
   ]
  },
  {
   "cell_type": "code",
   "execution_count": 3,
   "id": "b3589b26",
   "metadata": {},
   "outputs": [
    {
     "name": "stdout",
     "output_type": "stream",
     "text": [
      "list of ranges:\n",
      "[array([0.   , 0.614, 1.228, 1.842, 2.456, 3.07 , 3.684, 4.298, 4.912,\n",
      "       5.526]), array([0.   , 0.614, 1.228, 1.842, 2.456, 3.07 , 3.684, 4.298, 4.912,\n",
      "       5.526]), array([0.   , 0.614, 1.228, 1.842, 2.456, 3.07 , 3.684, 4.298, 4.912,\n",
      "       5.526]), array([0.   , 0.614, 1.228, 1.842, 2.456, 3.07 , 3.684, 4.298, 4.912,\n",
      "       5.526]), array([0.   , 0.614, 1.228, 1.842, 2.456, 3.07 , 3.684, 4.298, 4.912,\n",
      "       5.526]), array([0.   , 0.614, 1.228, 1.842, 2.456, 3.07 , 3.684, 4.298, 4.912,\n",
      "       5.526]), array([0.   , 0.614, 1.228, 1.842, 2.456, 3.07 , 3.684, 4.298, 4.912,\n",
      "       5.526]), array([0.   , 0.614, 1.228, 1.842, 2.456, 3.07 , 3.684, 4.298, 4.912,\n",
      "       5.526]), array([0.   , 0.614, 1.228, 1.842, 2.456, 3.07 , 3.684, 4.298, 4.912,\n",
      "       5.526]), array([0.   , 0.614, 1.228, 1.842, 2.456, 3.07 , 3.684, 4.298, 4.912,\n",
      "       5.526])]\n",
      "2D array of ranges:\n",
      "[[0.    0.614 1.228 1.842 2.456 3.07  3.684 4.298 4.912 5.526]\n",
      " [0.    0.614 1.228 1.842 2.456 3.07  3.684 4.298 4.912 5.526]\n",
      " [0.    0.614 1.228 1.842 2.456 3.07  3.684 4.298 4.912 5.526]\n",
      " [0.    0.614 1.228 1.842 2.456 3.07  3.684 4.298 4.912 5.526]\n",
      " [0.    0.614 1.228 1.842 2.456 3.07  3.684 4.298 4.912 5.526]\n",
      " [0.    0.614 1.228 1.842 2.456 3.07  3.684 4.298 4.912 5.526]\n",
      " [0.    0.614 1.228 1.842 2.456 3.07  3.684 4.298 4.912 5.526]\n",
      " [0.    0.614 1.228 1.842 2.456 3.07  3.684 4.298 4.912 5.526]\n",
      " [0.    0.614 1.228 1.842 2.456 3.07  3.684 4.298 4.912 5.526]\n",
      " [0.    0.614 1.228 1.842 2.456 3.07  3.684 4.298 4.912 5.526]]\n"
     ]
    }
   ],
   "source": [
    "#you can also convert lists into arrays with the np.array function\n",
    "#this makes an array with 10 copies of our range array values\n",
    "xgradient=[myrangearray]*10\n",
    "print('list of ranges:')\n",
    "print(xgradient)\n",
    "print('2D array of ranges:')\n",
    "npxgradient=np.array(xgradient)\n",
    "print(npxgradient)"
   ]
  },
  {
   "cell_type": "code",
   "execution_count": 4,
   "id": "a146d36b",
   "metadata": {},
   "outputs": [
    {
     "data": {
      "text/plain": [
       "(10, 10)"
      ]
     },
     "execution_count": 4,
     "metadata": {},
     "output_type": "execute_result"
    }
   ],
   "source": [
    "#for multidimensional arrays, we can use the shape property to get dimensions\n",
    "npxgradient.shape"
   ]
  },
  {
   "cell_type": "code",
   "execution_count": 5,
   "id": "b5e69987",
   "metadata": {},
   "outputs": [],
   "source": [
    "#all numpy functions work on n dimensional arrays\n",
    "#let's make a sin wave out of our gradient\n",
    "sinarr=np.sin(npxgradient)"
   ]
  },
  {
   "cell_type": "code",
   "execution_count": 6,
   "id": "2f3a16b4",
   "metadata": {},
   "outputs": [
    {
     "name": "stdout",
     "output_type": "stream",
     "text": [
      "[[ 0.          0.57614146  0.94181844  0.96344914  0.63313186  0.07153151\n",
      "  -0.5161993  -0.91536251 -0.98014378 -0.68687853]\n",
      " [ 0.          0.57614146  0.94181844  0.96344914  0.63313186  0.07153151\n",
      "  -0.5161993  -0.91536251 -0.98014378 -0.68687853]\n",
      " [ 0.          0.57614146  0.94181844  0.96344914  0.63313186  0.07153151\n",
      "  -0.5161993  -0.91536251 -0.98014378 -0.68687853]\n",
      " [ 0.          0.57614146  0.94181844  0.96344914  0.63313186  0.07153151\n",
      "  -0.5161993  -0.91536251 -0.98014378 -0.68687853]\n",
      " [ 0.          0.57614146  0.94181844  0.96344914  0.63313186  0.07153151\n",
      "  -0.5161993  -0.91536251 -0.98014378 -0.68687853]\n",
      " [ 0.          0.57614146  0.94181844  0.96344914  0.63313186  0.07153151\n",
      "  -0.5161993  -0.91536251 -0.98014378 -0.68687853]\n",
      " [ 0.          0.57614146  0.94181844  0.96344914  0.63313186  0.07153151\n",
      "  -0.5161993  -0.91536251 -0.98014378 -0.68687853]\n",
      " [ 0.          0.57614146  0.94181844  0.96344914  0.63313186  0.07153151\n",
      "  -0.5161993  -0.91536251 -0.98014378 -0.68687853]\n",
      " [ 0.          0.57614146  0.94181844  0.96344914  0.63313186  0.07153151\n",
      "  -0.5161993  -0.91536251 -0.98014378 -0.68687853]\n",
      " [ 0.          0.57614146  0.94181844  0.96344914  0.63313186  0.07153151\n",
      "  -0.5161993  -0.91536251 -0.98014378 -0.68687853]]\n"
     ]
    }
   ],
   "source": [
    "print(sinarr)"
   ]
  },
  {
   "cell_type": "markdown",
   "id": "d543cc6c",
   "metadata": {},
   "source": [
    "## Now let's introduce matplotlib"
   ]
  },
  {
   "cell_type": "code",
   "execution_count": 7,
   "id": "a6b4a899",
   "metadata": {},
   "outputs": [
    {
     "data": {
      "text/plain": [
       "<matplotlib.colorbar.Colorbar at 0x10ee52e20>"
      ]
     },
     "execution_count": 7,
     "metadata": {},
     "output_type": "execute_result"
    },
    {
     "data": {
      "image/png": "[encoded data removed]",
      "text/plain": [
       "<Figure size 432x288 with 2 Axes>"
      ]
     },
     "metadata": {
      "needs_background": "light"
     },
     "output_type": "display_data"
    }
   ],
   "source": [
    "#the easiest way to show a 2d array is an image\n",
    "#for more python image processing advice, see the image processing basics notebook\n",
    "plt.imshow(sinarr)\n",
    "plt.colorbar()"
   ]
  },
  {
   "cell_type": "code",
   "execution_count": 8,
   "id": "d5cb1a45",
   "metadata": {},
   "outputs": [
    {
     "data": {
      "text/plain": [
       "<matplotlib.image.AxesImage at 0x10efc6be0>"
      ]
     },
     "execution_count": 8,
     "metadata": {},
     "output_type": "execute_result"
    },
    {
     "data": {
      "image/png": "[encoded data removed]",
      "text/plain": [
       "<Figure size 432x288 with 1 Axes>"
      ]
     },
     "metadata": {
      "needs_background": "light"
     },
     "output_type": "display_data"
    }
   ],
   "source": [
    "#we can show the gradient we used to calculate this\n",
    "plt.imshow(npxgradient)"
   ]
  },
  {
   "cell_type": "code",
   "execution_count": 9,
   "id": "238526c3",
   "metadata": {},
   "outputs": [
    {
     "name": "stdout",
     "output_type": "stream",
     "text": [
      "[ 0.          0.57614146  0.94181844  0.96344914  0.63313186  0.07153151\n",
      " -0.5161993  -0.91536251 -0.98014378 -0.68687853]\n"
     ]
    }
   ],
   "source": [
    "#numpy arrays can be treated a bit like lists: we can get each x array with a simple index:\n",
    "print(sinarr[0])"
   ]
  },
  {
   "cell_type": "code",
   "execution_count": 10,
   "id": "434b7327",
   "metadata": {},
   "outputs": [
    {
     "data": {
      "image/png": "[encoded data removed]",
      "text/plain": [
       "<Figure size 432x288 with 1 Axes>"
      ]
     },
     "metadata": {
      "needs_background": "light"
     },
     "output_type": "display_data"
    }
   ],
   "source": [
    "#we can show our sine wave as a plot in matplotlib\n",
    "plt.plot(sinarr[0])\n",
    "plt.xlabel('array point')\n",
    "plt.ylabel('value')\n",
    "plt.show()"
   ]
  },
  {
   "cell_type": "code",
   "execution_count": 11,
   "id": "89e9193a",
   "metadata": {},
   "outputs": [
    {
     "data": {
      "image/png": "[encoded data removed]",
      "text/plain": [
       "<Figure size 432x288 with 1 Axes>"
      ]
     },
     "metadata": {
      "needs_background": "light"
     },
     "output_type": "display_data"
    }
   ],
   "source": [
    "#even better, we can add the x axis\n",
    "plt.plot(npxgradient[0],sinarr[0])\n",
    "plt.xlabel('x')\n",
    "plt.ylabel('y')\n",
    "plt.show()"
   ]
  },
  {
   "cell_type": "code",
   "execution_count": 12,
   "id": "1636a4d2",
   "metadata": {},
   "outputs": [
    {
     "data": {
      "text/plain": [
       "[<matplotlib.lines.Line2D at 0x10f146490>]"
      ]
     },
     "execution_count": 12,
     "metadata": {},
     "output_type": "execute_result"
    },
    {
     "data": {
      "image/png": "[encoded data removed]",
      "text/plain": [
       "<Figure size 432x288 with 1 Axes>"
      ]
     },
     "metadata": {
      "needs_background": "light"
     },
     "output_type": "display_data"
    }
   ],
   "source": [
    "#one of the more powerful things about numpy is slicing\n",
    "#what if we want to get the middle vertical row of our array?\n",
    "#we can separate slice multidimensionally\n",
    "#here 4 is the column of our array we want to select and : means we will use all rows\n",
    "plt.plot(sinarr[:,4])"
   ]
  },
  {
   "cell_type": "code",
   "execution_count": 13,
   "id": "e029d19a",
   "metadata": {},
   "outputs": [
    {
     "data": {
      "text/plain": [
       "<matplotlib.image.AxesImage at 0x10f1b4c70>"
      ]
     },
     "execution_count": 13,
     "metadata": {},
     "output_type": "execute_result"
    },
    {
     "data": {
      "image/png": "[encoded data removed]",
      "text/plain": [
       "<Figure size 432x288 with 1 Axes>"
      ]
     },
     "metadata": {
      "needs_background": "light"
     },
     "output_type": "display_data"
    }
   ],
   "source": [
    "#one of the tricky things about numpy arrays is that many operations don't make copies\n",
    "#they simply return a \"view\" of the array\n",
    "vertslice=sinarr[:,4]\n",
    "vertslice+=5\n",
    "plt.imshow(sinarr)"
   ]
  },
  {
   "cell_type": "code",
   "execution_count": 14,
   "id": "b9568af3",
   "metadata": {},
   "outputs": [
    {
     "data": {
      "text/plain": [
       "<matplotlib.image.AxesImage at 0x10f221af0>"
      ]
     },
     "execution_count": 14,
     "metadata": {},
     "output_type": "execute_result"
    },
    {
     "data": {
      "image/png": "[encoded data removed]",
      "text/plain": [
       "<Figure size 432x288 with 1 Axes>"
      ]
     },
     "metadata": {
      "needs_background": "light"
     },
     "output_type": "display_data"
    }
   ],
   "source": [
    "#the cool thing about this is we can do complex slicing and modify selected elements of our array\n",
    "sinarr[range(10),range(9,-1,-1)]+=5\n",
    "plt.imshow(sinarr)"
   ]
  },
  {
   "cell_type": "code",
   "execution_count": 15,
   "id": "acd8dd24",
   "metadata": {},
   "outputs": [],
   "source": [
    "#but sometimes you really want a copy of your array--this is a simple copy function\n",
    "oldarray=sinarr.copy() #our modified array\n",
    "sinarr=np.sin(npxgradient) #getting back the original"
   ]
  },
  {
   "cell_type": "code",
   "execution_count": 16,
   "id": "897cf5d4",
   "metadata": {},
   "outputs": [
    {
     "data": {
      "text/plain": [
       "<matplotlib.image.AxesImage at 0x104dd05e0>"
      ]
     },
     "execution_count": 16,
     "metadata": {},
     "output_type": "execute_result"
    },
    {
     "data": {
      "image/png": "[encoded data removed]",
      "text/plain": [
       "<Figure size 576x288 with 2 Axes>"
      ]
     },
     "metadata": {
      "needs_background": "light"
     },
     "output_type": "display_data"
    }
   ],
   "source": [
    "#plotting can be done on a grid with subplot\n",
    "#subplots returns a 2D array of plot axes\n",
    "fig,axes=plt.subplots(nrows=1,ncols=2,figsize=(8,4))\n",
    "axes[0].imshow(oldarray)\n",
    "axes[1].imshow(sinarr)"
   ]
  },
  {
   "cell_type": "code",
   "execution_count": 17,
   "id": "5e0b1d74",
   "metadata": {},
   "outputs": [
    {
     "data": {
      "text/plain": [
       "array([[False, False, False, False,  True, False, False, False, False,\n",
       "         True],\n",
       "       [False, False, False, False,  True, False, False, False,  True,\n",
       "        False],\n",
       "       [False, False, False, False,  True, False, False,  True, False,\n",
       "        False],\n",
       "       [False, False, False, False,  True, False,  True, False, False,\n",
       "        False],\n",
       "       [False, False, False, False,  True,  True, False, False, False,\n",
       "        False],\n",
       "       [False, False, False, False,  True, False, False, False, False,\n",
       "        False],\n",
       "       [False, False, False,  True,  True, False, False, False, False,\n",
       "        False],\n",
       "       [False, False,  True, False,  True, False, False, False, False,\n",
       "        False],\n",
       "       [False,  True, False, False,  True, False, False, False, False,\n",
       "        False],\n",
       "       [ True, False, False, False,  True, False, False, False, False,\n",
       "        False]])"
      ]
     },
     "execution_count": 17,
     "metadata": {},
     "output_type": "execute_result"
    }
   ],
   "source": [
    "#true/false arrays can also be used for slicing and boolean operations create true/false arrays\n",
    "oldarray>2"
   ]
  },
  {
   "cell_type": "code",
   "execution_count": 18,
   "id": "30a37488",
   "metadata": {},
   "outputs": [
    {
     "data": {
      "text/plain": [
       "<matplotlib.image.AxesImage at 0x10f075520>"
      ]
     },
     "execution_count": 18,
     "metadata": {},
     "output_type": "execute_result"
    },
    {
     "data": {
      "image/png": "[encoded data removed]",
      "text/plain": [
       "<Figure size 432x288 with 1 Axes>"
      ]
     },
     "metadata": {
      "needs_background": "light"
     },
     "output_type": "display_data"
    }
   ],
   "source": [
    "#now make a modification with that \"mask\"\n",
    "oldarray[oldarray>2]=0.0\n",
    "plt.imshow(oldarray)"
   ]
  },
  {
   "cell_type": "markdown",
   "id": "cfc7f57e",
   "metadata": {},
   "source": [
    "#### As you can start to see, array slicing is a powerful way to control operations on selected parts of data sets.  This forms the basis for many data science operations."
   ]
  },
  {
   "cell_type": "markdown",
   "id": "18e6560a",
   "metadata": {},
   "source": [
    "Slicing provides a mechanism for selecting parts of an array.  What about adding onto an array?  For that we can use \"append\"."
   ]
  },
  {
   "cell_type": "code",
   "execution_count": 19,
   "id": "36ffc758",
   "metadata": {},
   "outputs": [
    {
     "name": "stdout",
     "output_type": "stream",
     "text": [
      "new shape:  (11, 10)\n"
     ]
    },
    {
     "data": {
      "text/plain": [
       "<matplotlib.image.AxesImage at 0x10f2db280>"
      ]
     },
     "execution_count": 19,
     "metadata": {},
     "output_type": "execute_result"
    },
    {
     "data": {
      "image/png": "[encoded data removed]",
      "text/plain": [
       "<Figure size 432x288 with 1 Axes>"
      ]
     },
     "metadata": {
      "needs_background": "light"
     },
     "output_type": "display_data"
    }
   ],
   "source": [
    "expanded=np.append(oldarray,np.full((1,10),5),axis=0)\n",
    "print('new shape: ',expanded.shape)\n",
    "plt.imshow(expanded)"
   ]
  },
  {
   "cell_type": "markdown",
   "id": "a28d6b2d",
   "metadata": {},
   "source": [
    "Note that many numpy (and pandas later on) operations use axis labels.  Axis labels go from slowest incrementing to fastest incrementing.  So here axis 0 represents the rows of our array and axis 1 represents the columns:"
   ]
  },
  {
   "cell_type": "markdown",
   "id": "9a78875b",
   "metadata": {},
   "source": [
    "How the matrix is entered:\n",
    "$$\n",
    "[[ a_{00},a_{01} ],[ a_{10},a_{11} ]]\n",
    "$$\n",
    "\n",
    "How the axes are arranged:\n",
    "<table>\n",
    "    <tr>\n",
    "        <td>\n",
    "            $$axis_0(y) \\downarrow$$\n",
    "        </td>\n",
    "        <td>\n",
    "        $$\n",
    "            \\left\\{\n",
    "            \\begin{bmatrix}\n",
    "            a_{00} & a_{01}\\\\\n",
    "            a_{10} & a_{11}\n",
    "            \\end{bmatrix}\n",
    "            \\right.\n",
    "        $$\n",
    "        </td>\n",
    "    </tr>\n",
    "    <tr>\n",
    "        <td>\n",
    "        </td>\n",
    "        <td>\n",
    "        $$\n",
    "        \\underbrace{......}\n",
    "        $$\n",
    "        </td>\n",
    "    </tr>\n",
    "    <tr>\n",
    "        <td></td>\n",
    "        <td>\n",
    "            $$axis_1(x) \\rightarrow$$\n",
    "        </td>\n",
    "</table>\n",
    "\n",
    "Note that if we had a 3 dimensional array (x,y,z), the z dimension would be axis 0 and the y dimension would be axis 1."
   ]
  },
  {
   "cell_type": "markdown",
   "id": "7f7ecafa",
   "metadata": {},
   "source": [
    "Append wants the same dimensions as our original array so we had to make our input array have the shape 1 x 10 (rather than just length 10).  Often we're adding a pre-existing array where we don't have that extra dimension--for that we can slice with the np.newaxis argument. Let's try expanding our array but adding copies of the last row:"
   ]
  },
  {
   "cell_type": "code",
   "execution_count": 20,
   "id": "7bc7679e",
   "metadata": {},
   "outputs": [
    {
     "data": {
      "text/plain": [
       "<matplotlib.image.AxesImage at 0x10f456280>"
      ]
     },
     "execution_count": 20,
     "metadata": {},
     "output_type": "execute_result"
    },
    {
     "data": {
      "image/png": "[encoded data removed]",
      "text/plain": [
       "<Figure size 432x288 with 1 Axes>"
      ]
     },
     "metadata": {
      "needs_background": "light"
     },
     "output_type": "display_data"
    }
   ],
   "source": [
    "#first get the last row (-1 is relative indexing)\n",
    "lastrow=oldarray[-1,:]\n",
    "#now append it to our array adding the new axis\n",
    "expanded2=np.append(oldarray,lastrow[np.newaxis,:],axis=0)\n",
    "#add another one to make it dramatic :)\n",
    "expanded2=np.append(expanded2,lastrow[np.newaxis,:],axis=0)\n",
    "plt.imshow(expanded2)"
   ]
  },
  {
   "cell_type": "markdown",
   "id": "2b1eb4c4",
   "metadata": {},
   "source": [
    "We did something else new in that last segment.  We used -1 as an index for slicing.  In array slicing any negative number counts backwards from the end of the array.  Since python arrays go from 0 to length-1, -1 is the last element.  In fact, slicing can use the same arguments as range()--start:end:increment.  If any one of those arguments is blank they change to the default.  Let's make a flipped array with every other row removed."
   ]
  },
  {
   "cell_type": "code",
   "execution_count": 21,
   "id": "81f784f0",
   "metadata": {},
   "outputs": [
    {
     "data": {
      "text/plain": [
       "<matplotlib.image.AxesImage at 0x10f4c4490>"
      ]
     },
     "execution_count": 21,
     "metadata": {},
     "output_type": "execute_result"
    },
    {
     "data": {
      "image/png": "[encoded data removed]",
      "text/plain": [
       "<Figure size 432x288 with 1 Axes>"
      ]
     },
     "metadata": {
      "needs_background": "light"
     },
     "output_type": "display_data"
    }
   ],
   "source": [
    "#we could explicitly slice it in reverse order\n",
    "#transformed=oldarray[10:0:-2,:]\n",
    "#but python is smart enough to figure out that this means \"go from end to beginning in increments of 2\"\n",
    "transformed=oldarray[::-2,:]\n",
    "plt.imshow(transformed)"
   ]
  },
  {
   "cell_type": "markdown",
   "id": "108236ca",
   "metadata": {},
   "source": [
    "As you can tell, slicing can be extremely powerful but you have to think carefully about what each item in your code is doing and what axes are being operated on.\n",
    "\n",
    "Slicing is a major reason why many people use numpy but the bigger reason is simple: speed.  Let's illustrate this by creating a big (5000 x 5000 element) sine wave image.  First let's do it in regular python.  Start by making an x gradient like we did before but bigger."
   ]
  },
  {
   "cell_type": "code",
   "execution_count": 22,
   "id": "a1e8da58",
   "metadata": {},
   "outputs": [],
   "source": [
    "bigxgrad=[list(range(5000))]*5000"
   ]
  },
  {
   "cell_type": "code",
   "execution_count": 23,
   "id": "55b353e9",
   "metadata": {},
   "outputs": [],
   "source": [
    "#we need to import the math library to get the non-numpy sin function\n",
    "import math\n",
    "import time"
   ]
  },
  {
   "cell_type": "code",
   "execution_count": 24,
   "id": "9d5b5ec0",
   "metadata": {},
   "outputs": [
    {
     "name": "stdout",
     "output_type": "stream",
     "text": [
      "calculation time (sec):  4.2641682624816895\n"
     ]
    }
   ],
   "source": [
    "st=time.time()\n",
    "sineimg=[]\n",
    "for i in range(len(bigxgrad)):\n",
    "    row=[]\n",
    "    for j in range(len(bigxgrad[i])):\n",
    "        row.append(math.sin(float(bigxgrad[i][j])*3.1416/1000))\n",
    "    sineimg.append(row)\n",
    "et=time.time()\n",
    "print('calculation time (sec): ',et-st)"
   ]
  },
  {
   "cell_type": "code",
   "execution_count": 25,
   "id": "b17fba23",
   "metadata": {},
   "outputs": [
    {
     "name": "stdout",
     "output_type": "stream",
     "text": [
      "numpy time (sec):  0.906883955001831\n"
     ]
    }
   ],
   "source": [
    "#now the numpy version\n",
    "st=time.time()\n",
    "npsineimg=np.sin(np.array(bigxgrad)*np.pi/1000.0)\n",
    "et=time.time()\n",
    "print('numpy time (sec): ',et-st)"
   ]
  },
  {
   "cell_type": "code",
   "execution_count": 26,
   "id": "84ae3d81",
   "metadata": {},
   "outputs": [
    {
     "data": {
      "text/plain": [
       "<matplotlib.image.AxesImage at 0x10f23fa30>"
      ]
     },
     "execution_count": 26,
     "metadata": {},
     "output_type": "execute_result"
    },
    {
     "data": {
      "image/png": "[encoded data removed]",
      "text/plain": [
       "<Figure size 432x288 with 2 Axes>"
      ]
     },
     "metadata": {
      "needs_background": "light"
     },
     "output_type": "display_data"
    }
   ],
   "source": [
    "#plot them to show that the result is the same\n",
    "fig,axs=plt.subplots(nrows=1,ncols=2)\n",
    "axs[0].imshow(sineimg)\n",
    "axs[1].imshow(npsineimg)"
   ]
  },
  {
   "cell_type": "markdown",
   "id": "c1c09673",
   "metadata": {},
   "source": [
    "The numpy code is about 5 times faster.  That can make a HUGE difference when you're processing a large amount of data (imagine 12 minutes vs. 1 hour for a long process)."
   ]
  },
  {
   "cell_type": "markdown",
   "id": "d2705b6f",
   "metadata": {},
   "source": [
    "Our final topic is apply.  Apply_along_axis takes any function that operates on a single axis (e.g. a row or column) and applies it to every instance of that axis.  Let's make a function that turns our array rows into cumulative sums (each column is the sum of the columns to the left of it) and apply it to our big array plus with one added (otherwise the negatives will cancel out the sum).  This also illustrates how functions in python can be arguments in other functions.  Don't forget that axis 1 describes the rows!"
   ]
  },
  {
   "cell_type": "code",
   "execution_count": 27,
   "id": "0c5ed2a2",
   "metadata": {},
   "outputs": [],
   "source": [
    "def cumulativeFunction(row):\n",
    "    return np.cumsum(row+1.0)\n",
    "\n",
    "cumulative_sine=np.apply_along_axis(cumulativeFunction,axis=1,arr=npsineimg)"
   ]
  },
  {
   "cell_type": "code",
   "execution_count": 28,
   "id": "cbf67c7f",
   "metadata": {},
   "outputs": [
    {
     "data": {
      "text/plain": [
       "<matplotlib.image.AxesImage at 0x2d6537b50>"
      ]
     },
     "execution_count": 28,
     "metadata": {},
     "output_type": "execute_result"
    },
    {
     "data": {
      "image/png": "[encoded data removed]",
      "text/plain": [
       "<Figure size 432x288 with 1 Axes>"
      ]
     },
     "metadata": {
      "needs_background": "light"
     },
     "output_type": "display_data"
    }
   ],
   "source": [
    "plt.imshow(cumulative_sine)"
   ]
  },
  {
   "cell_type": "code",
   "execution_count": 29,
   "id": "91e633f6",
   "metadata": {},
   "outputs": [
    {
     "data": {
      "text/plain": [
       "[<matplotlib.lines.Line2D at 0x2ee326cd0>]"
      ]
     },
     "execution_count": 29,
     "metadata": {},
     "output_type": "execute_result"
    },
    {
     "data": {
      "image/png": "[encoded data removed]",
      "text/plain": [
       "<Figure size 432x288 with 1 Axes>"
      ]
     },
     "metadata": {
      "needs_background": "light"
     },
     "output_type": "display_data"
    }
   ],
   "source": [
    "plt.plot(cumulative_sine[0])"
   ]
  },
  {
   "cell_type": "code",
   "execution_count": null,
   "id": "cde5e18d",
   "metadata": {},
   "outputs": [],
   "source": []
  }
 ],
 "metadata": {
  "kernelspec": {
   "display_name": "startenv",
   "language": "python",
   "name": "startenv"
  },
  "language_info": {
   "codemirror_mode": {
    "name": "ipython",
    "version": 3
   },
   "file_extension": ".py",
   "mimetype": "text/x-python",
   "name": "python",
   "nbconvert_exporter": "python",
   "pygments_lexer": "ipython3",
   "version": "3.9.16"
  }
 },
 "nbformat": 4,
 "nbformat_minor": 5
}
