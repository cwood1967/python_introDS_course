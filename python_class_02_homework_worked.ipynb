{
 "cells": [
  {
   "cell_type": "markdown",
   "metadata": {},
   "source": [
    "The yeast protein spt4 is in a region of the genome with this sequence: CATTCAGTTTGGCAAAAGCGAACGAGGTACAGTGTAAGAGATGTCTAGTGAAAGAGCCTGTATGCTGTGTGGCATAGTGCAGACCACAAAT\n",
    "GAGTTTAATAGAGATGGTTGTCCCAACTGTCAGGGTATTTTTGAAGAGGCAGGTGTTTCTACAATGGAATGTACGTCGCCTTCTTTCGAGG\n",
    "GCCTCGTAGGAATGTGTAAGCCTACTAAGTCGTGGGTAGCAAAGTGGCTGAGCGTAGATCATAGTATAGCTGGTATGTACGCCATCAAGGT\n",
    "CGATGGTAGACTACCAGCTGAGGTTGTGGAGCTGTTGCCTCACTACAAACCGAGGGATGGCAGTCAAGTTGAGTAAAACCTTCCGTTCTGA\n",
    "TATCACATGTATAATAGTAATGAATTTTTTTTACTTTTTTTTTTTTTT.  \n",
    "Protein sequences start with the letters \"ATG\".  Create a string with this sequencde and use the find command to get the starting point of the gene in this sequence."
   ]
  },
  {
   "cell_type": "code",
   "execution_count": 1,
   "metadata": {
    "collapsed": true
   },
   "outputs": [],
   "source": [
    "myseq='CATTCAGTTTGGCAAAAGCGAACGAGGTACAGTGTAAGAGATGTCTAGTGAAAGAGCCTGTATGCTGTGTGGCATAGTGCAGACCACAAATGAGTTTAATAGAGATGGTTGTCCCAACTGTCAGGGTATTTTTGAAGAGGCAGGTGTTTCTACAATGGAATGTACGTCGCCTTCTTTCGAGGGCCTCGTAGGAATGTGTAAGCCTACTAAGTCGTGGGTAGCAAAGTGGCTGAGCGTAGATCATAGTATAGCTGGTATGTACGCCATCAAGGTCGATGGTAGACTACCAGCTGAGGTTGTGGAGCTGTTGCCTCACTACAAACCGAGGGATGGCAGTCAAGTTGAGTAAAACCTTCCGTTCTGATATCACATGTATAATAGTAATGAATTTTTTTTACTTTTTTTTTTTTTT'"
   ]
  },
  {
   "cell_type": "code",
   "execution_count": 2,
   "metadata": {},
   "outputs": [
    {
     "name": "stdout",
     "output_type": "stream",
     "text": [
      "40\n"
     ]
    }
   ],
   "source": [
    "startpos=myseq.find('ATG')\n",
    "print(startpos)"
   ]
  },
  {
   "cell_type": "markdown",
   "metadata": {},
   "source": [
    "Gene sequences often end with the \"stop codon\" sequence \"TAA\".  But there's a catch--that stop sequence needs to be a multiple of 3 letters away from the start sequence (each 3 letters indicates one protein amino acid).  Find a stop sequence after the start sequence from above and use modulus to check if it is a multiple of 3 letters away."
   ]
  },
  {
   "cell_type": "code",
   "execution_count": 3,
   "metadata": {},
   "outputs": [
    {
     "name": "stdout",
     "output_type": "stream",
     "text": [
      "96\n",
      "2\n"
     ]
    }
   ],
   "source": [
    "endpos=myseq.find('TAA',41)\n",
    "print(endpos)\n",
    "print((endpos-startpos)%3)"
   ]
  },
  {
   "cell_type": "markdown",
   "metadata": {},
   "source": [
    "Clearly the first end sequence is not a multiple of 3 away from the first.  Let's try the next few."
   ]
  },
  {
   "cell_type": "code",
   "execution_count": 4,
   "metadata": {},
   "outputs": [
    {
     "name": "stdout",
     "output_type": "stream",
     "text": [
      "346\n",
      "0\n"
     ]
    }
   ],
   "source": [
    "endpos2=myseq.find('TAA',208)\n",
    "print(endpos2)\n",
    "print((endpos2-startpos)%3)"
   ]
  },
  {
   "cell_type": "markdown",
   "metadata": {},
   "source": [
    "Now use slicing to show only the protein coding sequence and get it's length and number of amino acids (multiples of 3)."
   ]
  },
  {
   "cell_type": "code",
   "execution_count": 5,
   "metadata": {},
   "outputs": [
    {
     "name": "stdout",
     "output_type": "stream",
     "text": [
      "ATGTCTAGTGAAAGAGCCTGTATGCTGTGTGGCATAGTGCAGACCACAAATGAGTTTAATAGAGATGGTTGTCCCAACTGTCAGGGTATTTTTGAAGAGGCAGGTGTTTCTACAATGGAATGTACGTCGCCTTCTTTCGAGGGCCTCGTAGGAATGTGTAAGCCTACTAAGTCGTGGGTAGCAAAGTGGCTGAGCGTAGATCATAGTATAGCTGGTATGTACGCCATCAAGGTCGATGGTAGACTACCAGCTGAGGTTGTGGAGCTGTTGCCTCACTACAAACCGAGGGATGGCAGTCAAGTTGAGTAA\n",
      "309\n",
      "103.0\n"
     ]
    }
   ],
   "source": [
    "print(myseq[startpos:endpos2+3])\n",
    "print(endpos2+3-startpos)\n",
    "print((endpos2+3-startpos)/3)"
   ]
  },
  {
   "cell_type": "markdown",
   "metadata": {},
   "source": [
    "Now let's write a while loop to automate this search process."
   ]
  },
  {
   "cell_type": "code",
   "execution_count": 6,
   "metadata": {
    "collapsed": true
   },
   "outputs": [],
   "source": [
    "endpos3=myseq.find('TAA',startpos+1)\n",
    "while((endpos3-startpos)%3!=0):\n",
    "    endpos3=myseq.find('TAA',endpos3+1)"
   ]
  },
  {
   "cell_type": "code",
   "execution_count": 7,
   "metadata": {},
   "outputs": [
    {
     "name": "stdout",
     "output_type": "stream",
     "text": [
      "346\n"
     ]
    }
   ],
   "source": [
    "print(endpos3)"
   ]
  },
  {
   "cell_type": "markdown",
   "metadata": {},
   "source": [
    "It would be cool if we could put this in a function and use it over and over again.  Make a function that takes our sequence and finds the start and end positions of the gene.  Note that you can return a list from a function."
   ]
  },
  {
   "cell_type": "code",
   "execution_count": 8,
   "metadata": {
    "collapsed": true
   },
   "outputs": [],
   "source": [
    "def findGene(seq):\n",
    "    startpos=seq.find('ATG')\n",
    "    endpos=seq.find('TAA',startpos+1)\n",
    "    while((endpos-startpos)%3!=0):\n",
    "        endpos=myseq.find('TAA',endpos+1)\n",
    "    return [startpos,endpos]"
   ]
  },
  {
   "cell_type": "code",
   "execution_count": 9,
   "metadata": {},
   "outputs": [
    {
     "name": "stdout",
     "output_type": "stream",
     "text": [
      "[40, 346]\n"
     ]
    }
   ],
   "source": [
    "print(findGene(myseq))"
   ]
  },
  {
   "cell_type": "markdown",
   "metadata": {},
   "source": [
    "Finally put your function in a text file called myseqanalysis.py and import and run it."
   ]
  },
  {
   "cell_type": "code",
   "execution_count": null,
   "metadata": {
    "collapsed": true
   },
   "outputs": [],
   "source": [
    "#put code here"
   ]
  }
 ],
 "metadata": {
  "kernelspec": {
   "display_name": "Python 3 (ipykernel)",
   "language": "python",
   "name": "python3"
  },
  "language_info": {
   "codemirror_mode": {
    "name": "ipython",
    "version": 3
   },
   "file_extension": ".py",
   "mimetype": "text/x-python",
   "name": "python",
   "nbconvert_exporter": "python",
   "pygments_lexer": "ipython3",
   "version": "3.9.13"
  }
 },
 "nbformat": 4,
 "nbformat_minor": 5
}
